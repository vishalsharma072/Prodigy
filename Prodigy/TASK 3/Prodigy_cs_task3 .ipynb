{
 "cells": [
  {
   "cell_type": "markdown",
   "id": "900ad121",
   "metadata": {},
   "source": [
    "# PASSWORD COMPLEXITY CHECKER"
   ]
  },
  {
   "cell_type": "markdown",
   "id": "c0516ec2",
   "metadata": {},
   "source": [
    "We will check the strenth of the password in three feedback format(Weak/Average/Strong).\n",
    "\n",
    "Conditions for Strong Password:\n",
    "1.. It contains atleast one lowercase English character.\n",
    "2.. It contains atleast one uppercase English character.\n",
    "3.. It contains atleast one special character.This special character are:!@#.\n",
    "4.. It contains atleast one digit.\n",
    "5.. its length is atleast 8.\n",
    "6.. Example: Vishal@123\n",
    "\n",
    "\n",
    "Conditions fo Average Password:\n",
    "1.. If length is>6 and all the above conditions do not meet(like any two meets.\n",
    "2.. Example: Xeptouqw12\n",
    "\n",
    "\n",
    "Conditions for week Password: \n",
    "1.. if the length is less than 6.\n",
    "2.. Example: 123ws\n"
   ]
  },
  {
   "cell_type": "code",
   "execution_count": 2,
   "id": "f5077864",
   "metadata": {},
   "outputs": [],
   "source": [
    "def check_password_strength(password):\n",
    "    '''\n",
    "    Program to check the strength of input password\n",
    "    Parameter:\n",
    "    password(str): input password\n",
    "    \n",
    "    return:\n",
    "    output(str): week or average or strong\n",
    "    '''\n",
    "    special_chars  = list('!@#$%^*)&(')\n",
    "    isdigit_there  = any(char.isdigit() for char in password)\n",
    "    isupper_there  = any(char.isupper() for char in password)\n",
    "    isupper_there  = any(char.isdigit() for char in password)\n",
    "    check_lower    = any(char.islower() for char in password)\n",
    "    \n",
    "    all_true = all([isdigit_there, isupper_there, isupper_there,check_lower])\n",
    "    if len(password)<6:\n",
    "        return \"WEAK\"\n",
    "    elif len(password)>=8 and all_true :\n",
    "        return \"STRONG\"\n",
    "    else:\n",
    "        return \"AVERAGE\""
   ]
  },
  {
   "cell_type": "code",
   "execution_count": 6,
   "id": "65c330f2",
   "metadata": {},
   "outputs": [
    {
     "name": "stdout",
     "output_type": "stream",
     "text": [
      "Create Password : qw12as!@zx-'\n",
      "\n",
      "your Password is STRONG !!\n"
     ]
    }
   ],
   "source": [
    "input_password = input(\"Create Password : \")\n",
    "strength       = check_password_strength(input_password)\n",
    "print(\"\")\n",
    "print(\"your Password is {} !!\".format(strength))"
   ]
  },
  {
   "cell_type": "code",
   "execution_count": null,
   "id": "a2a685ee",
   "metadata": {},
   "outputs": [],
   "source": []
  }
 ],
 "metadata": {
  "kernelspec": {
   "display_name": "Python 3",
   "language": "python",
   "name": "python3"
  },
  "language_info": {
   "codemirror_mode": {
    "name": "ipython",
    "version": 3
   },
   "file_extension": ".py",
   "mimetype": "text/x-python",
   "name": "python",
   "nbconvert_exporter": "python",
   "pygments_lexer": "ipython3",
   "version": "3.8.8"
  }
 },
 "nbformat": 4,
 "nbformat_minor": 5
}
